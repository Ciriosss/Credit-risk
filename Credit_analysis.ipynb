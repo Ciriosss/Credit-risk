{
 "cells": [
  {
   "cell_type": "raw",
   "id": "58c1d48f0296be66",
   "metadata": {},
   "source": [
    "ALTMAN Z SCORE MODEL"
   ]
  },
  {
   "cell_type": "code",
   "execution_count": 5,
   "id": "c79af80011be7982",
   "metadata": {
    "ExecuteTime": {
     "end_time": "2023-12-09T12:58:18.550223100Z",
     "start_time": "2023-12-09T12:58:18.478347Z"
    },
    "collapsed": false,
    "jupyter": {
     "outputs_hidden": false
    }
   },
   "outputs": [
    {
     "data": {
      "text/html": [
       "<div>\n",
       "<style scoped>\n",
       "    .dataframe tbody tr th:only-of-type {\n",
       "        vertical-align: middle;\n",
       "    }\n",
       "\n",
       "    .dataframe tbody tr th {\n",
       "        vertical-align: top;\n",
       "    }\n",
       "\n",
       "    .dataframe thead th {\n",
       "        text-align: right;\n",
       "    }\n",
       "</style>\n",
       "<table border=\"1\" class=\"dataframe\">\n",
       "  <thead>\n",
       "    <tr style=\"text-align: right;\">\n",
       "      <th></th>\n",
       "      <th>Company</th>\n",
       "      <th>Working_Capital</th>\n",
       "      <th>Retained_Earnings</th>\n",
       "      <th>EBIT</th>\n",
       "      <th>Total_Assets</th>\n",
       "      <th>Market_Value_Equity</th>\n",
       "      <th>Total_Liabilities</th>\n",
       "      <th>Sales</th>\n",
       "    </tr>\n",
       "  </thead>\n",
       "  <tbody>\n",
       "    <tr>\n",
       "      <th>0</th>\n",
       "      <td>Company_1</td>\n",
       "      <td>136685.296188</td>\n",
       "      <td>28666.378985</td>\n",
       "      <td>63432.467859</td>\n",
       "      <td>1.260208e+06</td>\n",
       "      <td>543113.388213</td>\n",
       "      <td>9.157725e+05</td>\n",
       "      <td>3.064436e+05</td>\n",
       "    </tr>\n",
       "    <tr>\n",
       "      <th>1</th>\n",
       "      <td>Company_2</td>\n",
       "      <td>698631.112614</td>\n",
       "      <td>33524.839247</td>\n",
       "      <td>169678.001325</td>\n",
       "      <td>1.753657e+06</td>\n",
       "      <td>65827.922557</td>\n",
       "      <td>5.530644e+05</td>\n",
       "      <td>2.048641e+06</td>\n",
       "    </tr>\n",
       "    <tr>\n",
       "      <th>2</th>\n",
       "      <td>Company_3</td>\n",
       "      <td>381616.189756</td>\n",
       "      <td>43254.825021</td>\n",
       "      <td>76964.388206</td>\n",
       "      <td>1.296547e+06</td>\n",
       "      <td>332785.648745</td>\n",
       "      <td>8.628709e+05</td>\n",
       "      <td>2.625912e+06</td>\n",
       "    </tr>\n",
       "    <tr>\n",
       "      <th>3</th>\n",
       "      <td>Company_4</td>\n",
       "      <td>428693.395962</td>\n",
       "      <td>150007.830145</td>\n",
       "      <td>218261.443613</td>\n",
       "      <td>8.991614e+05</td>\n",
       "      <td>199536.069564</td>\n",
       "      <td>1.666083e+06</td>\n",
       "      <td>2.409530e+06</td>\n",
       "    </tr>\n",
       "    <tr>\n",
       "      <th>4</th>\n",
       "      <td>Company_5</td>\n",
       "      <td>302297.071601</td>\n",
       "      <td>122630.428001</td>\n",
       "      <td>100868.130387</td>\n",
       "      <td>1.042861e+06</td>\n",
       "      <td>116783.010123</td>\n",
       "      <td>1.342849e+06</td>\n",
       "      <td>2.724602e+06</td>\n",
       "    </tr>\n",
       "    <tr>\n",
       "      <th>...</th>\n",
       "      <td>...</td>\n",
       "      <td>...</td>\n",
       "      <td>...</td>\n",
       "      <td>...</td>\n",
       "      <td>...</td>\n",
       "      <td>...</td>\n",
       "      <td>...</td>\n",
       "      <td>...</td>\n",
       "    </tr>\n",
       "    <tr>\n",
       "      <th>95</th>\n",
       "      <td>Company_96</td>\n",
       "      <td>304603.445556</td>\n",
       "      <td>135696.892405</td>\n",
       "      <td>81327.251451</td>\n",
       "      <td>3.247790e+06</td>\n",
       "      <td>387912.368520</td>\n",
       "      <td>6.831641e+05</td>\n",
       "      <td>1.097910e+06</td>\n",
       "    </tr>\n",
       "    <tr>\n",
       "      <th>96</th>\n",
       "      <td>Company_97</td>\n",
       "      <td>491128.437320</td>\n",
       "      <td>169964.434985</td>\n",
       "      <td>144648.962220</td>\n",
       "      <td>1.798837e+06</td>\n",
       "      <td>490451.188383</td>\n",
       "      <td>2.334627e+06</td>\n",
       "      <td>1.300977e+06</td>\n",
       "    </tr>\n",
       "    <tr>\n",
       "      <th>97</th>\n",
       "      <td>Company_98</td>\n",
       "      <td>500205.603137</td>\n",
       "      <td>41612.854707</td>\n",
       "      <td>24404.423565</td>\n",
       "      <td>3.115572e+06</td>\n",
       "      <td>681739.523112</td>\n",
       "      <td>7.736373e+05</td>\n",
       "      <td>1.216393e+06</td>\n",
       "    </tr>\n",
       "    <tr>\n",
       "      <th>98</th>\n",
       "      <td>Company_99</td>\n",
       "      <td>201676.166339</td>\n",
       "      <td>128702.075690</td>\n",
       "      <td>96063.327547</td>\n",
       "      <td>1.194632e+06</td>\n",
       "      <td>185465.456445</td>\n",
       "      <td>2.400475e+06</td>\n",
       "      <td>2.136058e+06</td>\n",
       "    </tr>\n",
       "    <tr>\n",
       "      <th>99</th>\n",
       "      <td>Company_100</td>\n",
       "      <td>239044.748589</td>\n",
       "      <td>44812.393486</td>\n",
       "      <td>59552.874287</td>\n",
       "      <td>2.665130e+06</td>\n",
       "      <td>300246.409861</td>\n",
       "      <td>1.392012e+06</td>\n",
       "      <td>4.987646e+05</td>\n",
       "    </tr>\n",
       "  </tbody>\n",
       "</table>\n",
       "<p>100 rows × 8 columns</p>\n",
       "</div>"
      ],
      "text/plain": [
       "        Company  Working_Capital  Retained_Earnings           EBIT  \\\n",
       "0     Company_1    136685.296188       28666.378985   63432.467859   \n",
       "1     Company_2    698631.112614       33524.839247  169678.001325   \n",
       "2     Company_3    381616.189756       43254.825021   76964.388206   \n",
       "3     Company_4    428693.395962      150007.830145  218261.443613   \n",
       "4     Company_5    302297.071601      122630.428001  100868.130387   \n",
       "..          ...              ...                ...            ...   \n",
       "95   Company_96    304603.445556      135696.892405   81327.251451   \n",
       "96   Company_97    491128.437320      169964.434985  144648.962220   \n",
       "97   Company_98    500205.603137       41612.854707   24404.423565   \n",
       "98   Company_99    201676.166339      128702.075690   96063.327547   \n",
       "99  Company_100    239044.748589       44812.393486   59552.874287   \n",
       "\n",
       "    Total_Assets  Market_Value_Equity  Total_Liabilities         Sales  \n",
       "0   1.260208e+06        543113.388213       9.157725e+05  3.064436e+05  \n",
       "1   1.753657e+06         65827.922557       5.530644e+05  2.048641e+06  \n",
       "2   1.296547e+06        332785.648745       8.628709e+05  2.625912e+06  \n",
       "3   8.991614e+05        199536.069564       1.666083e+06  2.409530e+06  \n",
       "4   1.042861e+06        116783.010123       1.342849e+06  2.724602e+06  \n",
       "..           ...                  ...                ...           ...  \n",
       "95  3.247790e+06        387912.368520       6.831641e+05  1.097910e+06  \n",
       "96  1.798837e+06        490451.188383       2.334627e+06  1.300977e+06  \n",
       "97  3.115572e+06        681739.523112       7.736373e+05  1.216393e+06  \n",
       "98  1.194632e+06        185465.456445       2.400475e+06  2.136058e+06  \n",
       "99  2.665130e+06        300246.409861       1.392012e+06  4.987646e+05  \n",
       "\n",
       "[100 rows x 8 columns]"
      ]
     },
     "execution_count": 5,
     "metadata": {},
     "output_type": "execute_result"
    }
   ],
   "source": [
    "import numpy as np\n",
    "import pandas as pd\n",
    "\n",
    "np.random.seed(42)\n",
    "\n",
    "companies = 100\n",
    "min_wc_ta, max_wc_ta = 0.1, 0.5\n",
    "min_re_ta, max_re_ta = 0.05, 0.3\n",
    "min_ebit_ta, max_ebit_ta = 0.05, 0.25\n",
    "min_mv_e, max_mv_e = 0.1, 0.8\n",
    "min_s_ta, max_s_ta = 0.2, 0.8\n",
    "\n",
    "data = {\n",
    "    'Company': [f'Company_{i}' for i in range(1, companies + 1)],\n",
    "    'Working_Capital': np.random.uniform(min_wc_ta, max_wc_ta, companies) * np.random.uniform(500000, 2000000, companies),\n",
    "    'Retained_Earnings': np.random.uniform(min_re_ta, max_re_ta, companies) * np.random.uniform(100000, 800000, companies),\n",
    "    'EBIT': np.random.uniform(min_ebit_ta, max_ebit_ta, companies) * np.random.uniform(200000, 1200000, companies),\n",
    "    'Total_Assets': np.random.uniform(500000, 5000000, companies),\n",
    "    'Market_Value_Equity': np.random.uniform(min_mv_e, max_mv_e, companies) * np.random.uniform(300000, 1500000, companies),\n",
    "    'Total_Liabilities': np.random.uniform(500000, 2500000, companies),\n",
    "    'Sales': np.random.uniform(min_s_ta, max_s_ta, companies) * np.random.uniform(800000, 4000000, companies),\n",
    "}\n",
    "\n",
    "\n",
    "data = pd.DataFrame(data)\n",
    "data\n"
   ]
  },
  {
   "cell_type": "code",
   "execution_count": 6,
   "id": "ff7b6f41c21b0425",
   "metadata": {
    "ExecuteTime": {
     "end_time": "2023-12-09T13:02:50.802186200Z",
     "start_time": "2023-12-09T13:02:50.779188600Z"
    },
    "collapsed": false,
    "jupyter": {
     "outputs_hidden": false
    }
   },
   "outputs": [],
   "source": [
    "data['WC_TA'] = data['Working_Capital'] / data['Total_Assets']\n",
    "data['RE_TA'] = data['Retained_Earnings'] / data['Total_Assets']\n",
    "data['EBIT_TA'] = data['EBIT'] / data['Total_Assets']\n",
    "data['MV_E'] = data['Market_Value_Equity'] / data['Total_Liabilities']\n",
    "data['S_TA'] = data['Sales'] / data['Total_Assets']\n"
   ]
  },
  {
   "cell_type": "code",
   "execution_count": 11,
   "id": "d53001ffc9425f25",
   "metadata": {
    "ExecuteTime": {
     "end_time": "2023-12-09T13:04:34.877117Z",
     "start_time": "2023-12-09T13:04:34.840440100Z"
    },
    "collapsed": false,
    "jupyter": {
     "outputs_hidden": false
    }
   },
   "outputs": [],
   "source": [
    "data['Altman_Z_Score'] = 1.2 * data['WC_TA'] + 1.4 * data['RE_TA'] + 3.3 * data['EBIT_TA'] + 0.6 * data['MV_E'] + 1.0 * data['S_TA']\n",
    "\n",
    "\n",
    "data['Altman_Z_Status'] = data['Altman_Z_Score'].apply(lambda x: 0 if x > 2.99 else 1)\n"
   ]
  },
  {
   "cell_type": "markdown",
   "id": "22dff3511441e90e",
   "metadata": {},
   "source": [
    "METRON MODEL"
   ]
  },
  {
   "cell_type": "code",
   "execution_count": 29,
   "id": "a7b5ded0f4ef3072",
   "metadata": {
    "ExecuteTime": {
     "end_time": "2023-12-09T13:26:30.957454900Z",
     "start_time": "2023-12-09T13:26:30.924073200Z"
    },
    "collapsed": false,
    "jupyter": {
     "outputs_hidden": false
    }
   },
   "outputs": [],
   "source": [
    "import pandas as pd\n",
    "import numpy as np\n",
    "\n",
    "# Impostazione del seed per la riproducibilità\n",
    "np.random.seed(42)\n",
    "\n",
    "# Creazione di un dataset di esempio\n",
    "companies = 100\n",
    "years = 5\n",
    "\n",
    "data = {\n",
    "    'Company': [f'Company_{i}' for i in range(1, companies + 1)],\n",
    "    'Market_Value_of_Equity': np.random.uniform(1000000, 10000000, companies),\n",
    "    'Long_Term_Debt': np.random.uniform(1000000, 5000000, companies),\n",
    "    'Short_Term_Debt': np.random.uniform(100000, 500000, companies),\n",
    "}\n",
    "\n",
    "df = pd.DataFrame(data)\n",
    "\n",
    "# Calcolo del valore totale del debito (Market Value of Debt)\n",
    "df['Market_Value_of_Debt'] = df['Long_Term_Debt'] + df['Short_Term_Debt']\n",
    "\n",
    "# Generazione di prezzi delle azioni fittizi\n",
    "df['Stock_Price'] = np.random.uniform(50, 500, companies)\n",
    "\n",
    "# Calcolo del rendimento giornaliero fittizio\n",
    "years = 5\n",
    "# Generazione di rendimenti giornalieri fittizi per tutte le righe contemporaneamente\n",
    "daily_returns_matrix = np.random.normal(0, 0.02, size=(len(df), years * 252))\n",
    "\n",
    "# Assegna la matrice di rendimenti giornalieri alla colonna 'Daily_Return'\n",
    "df['Daily_Return'] = daily_returns_matrix.tolist()\n",
    "\n",
    "\n",
    "\n",
    "financial_data = pd.DataFrame(data)\n"
   ]
  },
  {
   "cell_type": "code",
   "execution_count": 30,
   "id": "e1b2589d51c232d1",
   "metadata": {
    "ExecuteTime": {
     "end_time": "2023-12-09T13:26:33.522198500Z",
     "start_time": "2023-12-09T13:26:33.411739Z"
    },
    "collapsed": false,
    "jupyter": {
     "outputs_hidden": false
    }
   },
   "outputs": [
    {
     "ename": "KeyError",
     "evalue": "'Stock_Price'",
     "output_type": "error",
     "traceback": [
      "\u001b[1;31m---------------------------------------------------------------------------\u001b[0m",
      "\u001b[1;31mKeyError\u001b[0m                                  Traceback (most recent call last)",
      "File \u001b[1;32m~\\.conda\\envs\\pythonProject\\Lib\\site-packages\\pandas\\core\\indexes\\base.py:3790\u001b[0m, in \u001b[0;36mIndex.get_loc\u001b[1;34m(self, key)\u001b[0m\n\u001b[0;32m   3789\u001b[0m \u001b[38;5;28;01mtry\u001b[39;00m:\n\u001b[1;32m-> 3790\u001b[0m     \u001b[38;5;28;01mreturn\u001b[39;00m \u001b[38;5;28mself\u001b[39m\u001b[38;5;241m.\u001b[39m_engine\u001b[38;5;241m.\u001b[39mget_loc(casted_key)\n\u001b[0;32m   3791\u001b[0m \u001b[38;5;28;01mexcept\u001b[39;00m \u001b[38;5;167;01mKeyError\u001b[39;00m \u001b[38;5;28;01mas\u001b[39;00m err:\n",
      "File \u001b[1;32mindex.pyx:152\u001b[0m, in \u001b[0;36mpandas._libs.index.IndexEngine.get_loc\u001b[1;34m()\u001b[0m\n",
      "File \u001b[1;32mindex.pyx:181\u001b[0m, in \u001b[0;36mpandas._libs.index.IndexEngine.get_loc\u001b[1;34m()\u001b[0m\n",
      "File \u001b[1;32mpandas\\_libs\\hashtable_class_helper.pxi:7080\u001b[0m, in \u001b[0;36mpandas._libs.hashtable.PyObjectHashTable.get_item\u001b[1;34m()\u001b[0m\n",
      "File \u001b[1;32mpandas\\_libs\\hashtable_class_helper.pxi:7088\u001b[0m, in \u001b[0;36mpandas._libs.hashtable.PyObjectHashTable.get_item\u001b[1;34m()\u001b[0m\n",
      "\u001b[1;31mKeyError\u001b[0m: 'Stock_Price'",
      "\nThe above exception was the direct cause of the following exception:\n",
      "\u001b[1;31mKeyError\u001b[0m                                  Traceback (most recent call last)",
      "Cell \u001b[1;32mIn[30], line 2\u001b[0m\n\u001b[0;32m      1\u001b[0m \u001b[38;5;66;03m# Calcola il rendimento giornaliero\u001b[39;00m\n\u001b[1;32m----> 2\u001b[0m financial_data[\u001b[38;5;124m'\u001b[39m\u001b[38;5;124mDaily_Return\u001b[39m\u001b[38;5;124m'\u001b[39m] \u001b[38;5;241m=\u001b[39m financial_data[\u001b[38;5;124m'\u001b[39m\u001b[38;5;124mStock_Price\u001b[39m\u001b[38;5;124m'\u001b[39m]\u001b[38;5;241m.\u001b[39mpct_change()\n\u001b[0;32m      4\u001b[0m \u001b[38;5;66;03m# Calcola la volatilità storica\u001b[39;00m\n\u001b[0;32m      5\u001b[0m historical_volatility \u001b[38;5;241m=\u001b[39m np\u001b[38;5;241m.\u001b[39mstd(financial_data[\u001b[38;5;124m'\u001b[39m\u001b[38;5;124mDaily_Return\u001b[39m\u001b[38;5;124m'\u001b[39m]) \u001b[38;5;241m*\u001b[39m np\u001b[38;5;241m.\u001b[39msqrt(\u001b[38;5;241m252\u001b[39m)\n",
      "File \u001b[1;32m~\\.conda\\envs\\pythonProject\\Lib\\site-packages\\pandas\\core\\frame.py:3893\u001b[0m, in \u001b[0;36mDataFrame.__getitem__\u001b[1;34m(self, key)\u001b[0m\n\u001b[0;32m   3891\u001b[0m \u001b[38;5;28;01mif\u001b[39;00m \u001b[38;5;28mself\u001b[39m\u001b[38;5;241m.\u001b[39mcolumns\u001b[38;5;241m.\u001b[39mnlevels \u001b[38;5;241m>\u001b[39m \u001b[38;5;241m1\u001b[39m:\n\u001b[0;32m   3892\u001b[0m     \u001b[38;5;28;01mreturn\u001b[39;00m \u001b[38;5;28mself\u001b[39m\u001b[38;5;241m.\u001b[39m_getitem_multilevel(key)\n\u001b[1;32m-> 3893\u001b[0m indexer \u001b[38;5;241m=\u001b[39m \u001b[38;5;28mself\u001b[39m\u001b[38;5;241m.\u001b[39mcolumns\u001b[38;5;241m.\u001b[39mget_loc(key)\n\u001b[0;32m   3894\u001b[0m \u001b[38;5;28;01mif\u001b[39;00m is_integer(indexer):\n\u001b[0;32m   3895\u001b[0m     indexer \u001b[38;5;241m=\u001b[39m [indexer]\n",
      "File \u001b[1;32m~\\.conda\\envs\\pythonProject\\Lib\\site-packages\\pandas\\core\\indexes\\base.py:3797\u001b[0m, in \u001b[0;36mIndex.get_loc\u001b[1;34m(self, key)\u001b[0m\n\u001b[0;32m   3792\u001b[0m     \u001b[38;5;28;01mif\u001b[39;00m \u001b[38;5;28misinstance\u001b[39m(casted_key, \u001b[38;5;28mslice\u001b[39m) \u001b[38;5;129;01mor\u001b[39;00m (\n\u001b[0;32m   3793\u001b[0m         \u001b[38;5;28misinstance\u001b[39m(casted_key, abc\u001b[38;5;241m.\u001b[39mIterable)\n\u001b[0;32m   3794\u001b[0m         \u001b[38;5;129;01mand\u001b[39;00m \u001b[38;5;28many\u001b[39m(\u001b[38;5;28misinstance\u001b[39m(x, \u001b[38;5;28mslice\u001b[39m) \u001b[38;5;28;01mfor\u001b[39;00m x \u001b[38;5;129;01min\u001b[39;00m casted_key)\n\u001b[0;32m   3795\u001b[0m     ):\n\u001b[0;32m   3796\u001b[0m         \u001b[38;5;28;01mraise\u001b[39;00m InvalidIndexError(key)\n\u001b[1;32m-> 3797\u001b[0m     \u001b[38;5;28;01mraise\u001b[39;00m \u001b[38;5;167;01mKeyError\u001b[39;00m(key) \u001b[38;5;28;01mfrom\u001b[39;00m \u001b[38;5;21;01merr\u001b[39;00m\n\u001b[0;32m   3798\u001b[0m \u001b[38;5;28;01mexcept\u001b[39;00m \u001b[38;5;167;01mTypeError\u001b[39;00m:\n\u001b[0;32m   3799\u001b[0m     \u001b[38;5;66;03m# If we have a listlike key, _check_indexing_error will raise\u001b[39;00m\n\u001b[0;32m   3800\u001b[0m     \u001b[38;5;66;03m#  InvalidIndexError. Otherwise we fall through and re-raise\u001b[39;00m\n\u001b[0;32m   3801\u001b[0m     \u001b[38;5;66;03m#  the TypeError.\u001b[39;00m\n\u001b[0;32m   3802\u001b[0m     \u001b[38;5;28mself\u001b[39m\u001b[38;5;241m.\u001b[39m_check_indexing_error(key)\n",
      "\u001b[1;31mKeyError\u001b[0m: 'Stock_Price'"
     ]
    }
   ],
   "source": [
    "# Calcola il rendimento giornaliero\n",
    "financial_data['Daily_Return'] = financial_data['Stock_Price'].pct_change()\n",
    "\n",
    "# Calcola la volatilità storica\n",
    "historical_volatility = np.std(financial_data['Daily_Return']) * np.sqrt(252)  # Assumendo 252 giorni lavorativi all'anno\n"
   ]
  },
  {
   "cell_type": "code",
   "execution_count": 32,
   "id": "c2f609e21026daf1",
   "metadata": {
    "ExecuteTime": {
     "end_time": "2023-12-09T13:27:15.049071800Z",
     "start_time": "2023-12-09T13:27:15.023796600Z"
    },
    "collapsed": false,
    "jupyter": {
     "outputs_hidden": false
    }
   },
   "outputs": [],
   "source": [
    "financial_data['Market_Value_of_Debt'] = financial_data['Long_Term_Debt'] + financial_data['Short_Term_Debt']\n"
   ]
  },
  {
   "cell_type": "code",
   "execution_count": 33,
   "id": "4d87e2f1aeafa063",
   "metadata": {
    "ExecuteTime": {
     "end_time": "2023-12-09T13:27:15.980531Z",
     "start_time": "2023-12-09T13:27:15.949536100Z"
    },
    "collapsed": false,
    "jupyter": {
     "outputs_hidden": false
    }
   },
   "outputs": [],
   "source": [
    "financial_data['Market_Value_of_Debt'] = financial_data['Long_Term_Debt'] + financial_data['Short_Term_Debt']\n"
   ]
  },
  {
   "cell_type": "code",
   "execution_count": 34,
   "id": "1625eaa238d51693",
   "metadata": {
    "ExecuteTime": {
     "end_time": "2023-12-09T13:27:16.891878800Z",
     "start_time": "2023-12-09T13:27:16.877693300Z"
    },
    "collapsed": false,
    "jupyter": {
     "outputs_hidden": false
    }
   },
   "outputs": [
    {
     "name": "stdout",
     "output_type": "stream",
     "text": [
      "Probabilità di Default:  100.000000%\n"
     ]
    }
   ],
   "source": [
    "from scipy.stats import norm\n",
    "\n",
    "# Parametri\n",
    "r = 0.02  # Tasso di interesse senza rischio\n",
    "T = 1.0   # Scadenza in anni\n",
    "E = financial_data['Market_Value_of_Equity'].iloc[-1]  # Valore di mercato dell'equity\n",
    "V = financial_data['Market_Value_of_Debt'].iloc[-1] + E  # Valore totale dell'azienda\n",
    "sigma = historical_volatility  # Volatilità storica\n",
    "\n",
    "# Calcola d2 e la probabilità di default\n",
    "d2 = (np.log(V / E) + (r - (sigma**2) / 2) * T) / (sigma * np.sqrt(T))\n",
    "PD = norm.cdf(-d2)\n",
    "\n",
    "print(f'Probabilità di Default: {PD: %}')\n"
   ]
  },
  {
   "cell_type": "code",
   "execution_count": null,
   "id": "9c20aa6f9c138f28",
   "metadata": {
    "collapsed": false,
    "jupyter": {
     "outputs_hidden": false
    }
   },
   "outputs": [],
   "source": []
  }
 ],
 "metadata": {
  "kernelspec": {
   "display_name": "Python 3 (ipykernel)",
   "language": "python",
   "name": "python3"
  },
  "language_info": {
   "codemirror_mode": {
    "name": "ipython",
    "version": 3
   },
   "file_extension": ".py",
   "mimetype": "text/x-python",
   "name": "python",
   "nbconvert_exporter": "python",
   "pygments_lexer": "ipython3",
   "version": "3.11.5"
  }
 },
 "nbformat": 4,
 "nbformat_minor": 5
}
